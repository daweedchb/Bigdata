{
 "cells": [
  {
   "cell_type": "code",
   "execution_count": 7,
   "metadata": {
    "collapsed": true
   },
   "outputs": [],
   "source": [
    "import pandas as pd\n",
    "import warnings\n",
    "from sklearn.model_selection import train_test_split\n",
    "from sklearn import ensemble\n",
    "from sklearn.model_selection import GridSearchCV\n",
    "import time as time\n",
    "from sklearn import preprocessing\n",
    "\n",
    "warnings.filterwarnings('ignore')\n",
    "from sklearn.metrics import f1_score"
   ]
  },
  {
   "cell_type": "markdown",
   "source": [
    "# Задание 1\n",
    "Найти данные для задачи классификации или для задачи регрессии."
   ],
   "metadata": {
    "collapsed": false
   }
  },
  {
   "cell_type": "code",
   "execution_count": 8,
   "outputs": [
    {
     "data": {
      "text/plain": "         Area  MajorAxisLength  MinorAxisLength  Eccentricity  ConvexArea  \\\n0    0.474616         0.859919         0.269911      0.956341    0.468721   \n1    0.653417         0.652168         0.674648      0.684623    0.646082   \n2    0.370014         0.631871         0.274676      0.892911    0.363697   \n3    0.698187         0.667969         0.720685      0.664957    0.685198   \n4    0.289679         0.714781         0.092885      0.987194    0.278768   \n..        ...              ...              ...           ...         ...   \n995  0.841702         0.776729         0.826400      0.664741    0.831748   \n996  0.320084         0.555726         0.243257      0.881509    0.312927   \n997  0.768201         0.701471         0.791756      0.640295    0.759812   \n998  0.788285         0.743190         0.779146      0.673760    0.768520   \n999  0.545886         0.834957         0.368049      0.914046    0.529940   \n\n     EquivDiameter    Extent  Perimeter  Roundness  AspectRation  \n0         0.548148  0.152982   0.648223   0.334347      0.813938  \n1         0.714036  0.637077   0.602768   0.753364      0.321400  \n2         0.443278  0.402449   0.477986   0.472900      0.631528  \n3         0.753351  0.668611   0.622526   0.788299      0.303017  \n4         0.357904  0.860486   0.473916   0.306598      0.937997  \n..             ...       ...        ...        ...           ...  \n995       0.874323  0.370744   0.747649   0.744172      0.302821  \n996       0.390760  0.268351   0.407401   0.521642      0.605677  \n997       0.813283  0.401398   0.677319   0.782157      0.281501  \n998       0.830145  0.441041   0.681256   0.807102      0.311103  \n999       0.616103  0.536836   0.642086   0.472057      0.684226  \n\n[1000 rows x 10 columns]",
      "text/html": "<div>\n<style scoped>\n    .dataframe tbody tr th:only-of-type {\n        vertical-align: middle;\n    }\n\n    .dataframe tbody tr th {\n        vertical-align: top;\n    }\n\n    .dataframe thead th {\n        text-align: right;\n    }\n</style>\n<table border=\"1\" class=\"dataframe\">\n  <thead>\n    <tr style=\"text-align: right;\">\n      <th></th>\n      <th>Area</th>\n      <th>MajorAxisLength</th>\n      <th>MinorAxisLength</th>\n      <th>Eccentricity</th>\n      <th>ConvexArea</th>\n      <th>EquivDiameter</th>\n      <th>Extent</th>\n      <th>Perimeter</th>\n      <th>Roundness</th>\n      <th>AspectRation</th>\n    </tr>\n  </thead>\n  <tbody>\n    <tr>\n      <th>0</th>\n      <td>0.474616</td>\n      <td>0.859919</td>\n      <td>0.269911</td>\n      <td>0.956341</td>\n      <td>0.468721</td>\n      <td>0.548148</td>\n      <td>0.152982</td>\n      <td>0.648223</td>\n      <td>0.334347</td>\n      <td>0.813938</td>\n    </tr>\n    <tr>\n      <th>1</th>\n      <td>0.653417</td>\n      <td>0.652168</td>\n      <td>0.674648</td>\n      <td>0.684623</td>\n      <td>0.646082</td>\n      <td>0.714036</td>\n      <td>0.637077</td>\n      <td>0.602768</td>\n      <td>0.753364</td>\n      <td>0.321400</td>\n    </tr>\n    <tr>\n      <th>2</th>\n      <td>0.370014</td>\n      <td>0.631871</td>\n      <td>0.274676</td>\n      <td>0.892911</td>\n      <td>0.363697</td>\n      <td>0.443278</td>\n      <td>0.402449</td>\n      <td>0.477986</td>\n      <td>0.472900</td>\n      <td>0.631528</td>\n    </tr>\n    <tr>\n      <th>3</th>\n      <td>0.698187</td>\n      <td>0.667969</td>\n      <td>0.720685</td>\n      <td>0.664957</td>\n      <td>0.685198</td>\n      <td>0.753351</td>\n      <td>0.668611</td>\n      <td>0.622526</td>\n      <td>0.788299</td>\n      <td>0.303017</td>\n    </tr>\n    <tr>\n      <th>4</th>\n      <td>0.289679</td>\n      <td>0.714781</td>\n      <td>0.092885</td>\n      <td>0.987194</td>\n      <td>0.278768</td>\n      <td>0.357904</td>\n      <td>0.860486</td>\n      <td>0.473916</td>\n      <td>0.306598</td>\n      <td>0.937997</td>\n    </tr>\n    <tr>\n      <th>...</th>\n      <td>...</td>\n      <td>...</td>\n      <td>...</td>\n      <td>...</td>\n      <td>...</td>\n      <td>...</td>\n      <td>...</td>\n      <td>...</td>\n      <td>...</td>\n      <td>...</td>\n    </tr>\n    <tr>\n      <th>995</th>\n      <td>0.841702</td>\n      <td>0.776729</td>\n      <td>0.826400</td>\n      <td>0.664741</td>\n      <td>0.831748</td>\n      <td>0.874323</td>\n      <td>0.370744</td>\n      <td>0.747649</td>\n      <td>0.744172</td>\n      <td>0.302821</td>\n    </tr>\n    <tr>\n      <th>996</th>\n      <td>0.320084</td>\n      <td>0.555726</td>\n      <td>0.243257</td>\n      <td>0.881509</td>\n      <td>0.312927</td>\n      <td>0.390760</td>\n      <td>0.268351</td>\n      <td>0.407401</td>\n      <td>0.521642</td>\n      <td>0.605677</td>\n    </tr>\n    <tr>\n      <th>997</th>\n      <td>0.768201</td>\n      <td>0.701471</td>\n      <td>0.791756</td>\n      <td>0.640295</td>\n      <td>0.759812</td>\n      <td>0.813283</td>\n      <td>0.401398</td>\n      <td>0.677319</td>\n      <td>0.782157</td>\n      <td>0.281501</td>\n    </tr>\n    <tr>\n      <th>998</th>\n      <td>0.788285</td>\n      <td>0.743190</td>\n      <td>0.779146</td>\n      <td>0.673760</td>\n      <td>0.768520</td>\n      <td>0.830145</td>\n      <td>0.441041</td>\n      <td>0.681256</td>\n      <td>0.807102</td>\n      <td>0.311103</td>\n    </tr>\n    <tr>\n      <th>999</th>\n      <td>0.545886</td>\n      <td>0.834957</td>\n      <td>0.368049</td>\n      <td>0.914046</td>\n      <td>0.529940</td>\n      <td>0.616103</td>\n      <td>0.536836</td>\n      <td>0.642086</td>\n      <td>0.472057</td>\n      <td>0.684226</td>\n    </tr>\n  </tbody>\n</table>\n<p>1000 rows × 10 columns</p>\n</div>"
     },
     "execution_count": 8,
     "metadata": {},
     "output_type": "execute_result"
    }
   ],
   "source": [
    "data = pd.read_csv('riceClassification.csv', sep=',')\n",
    "data = data.sample(1000)\n",
    "DATA = data.drop(['id', 'Class'], axis=1)\n",
    "scaler = preprocessing.MinMaxScaler()\n",
    "D = pd.DataFrame(scaler.fit_transform(DATA), columns=DATA.columns)\n",
    "D"
   ],
   "metadata": {
    "collapsed": false
   }
  },
  {
   "cell_type": "markdown",
   "source": [
    "# Задание 2\n",
    "Реализовать баггинг."
   ],
   "metadata": {
    "collapsed": false
   }
  },
  {
   "cell_type": "code",
   "execution_count": 9,
   "outputs": [],
   "source": [
    "bagging_data = D.copy()\n",
    "target = data['Class']\n",
    "\n",
    "X_train, X_test, y_train, y_test = train_test_split(bagging_data, target, test_size=0.3, random_state=42)\n",
    "\n",
    "params_grid = {\n",
    "    'max_depth': [12, 18],\n",
    "    'min_samples_split': [6, 12],\n",
    "    'min_samples_leaf': [3, 10],\n",
    "}\n",
    "\n",
    "grid_search_random_forest = GridSearchCV(ensemble.RandomForestClassifier(),\n",
    "                                         params_grid,\n",
    "                                         cv=4,\n",
    "                                         scoring='f1_macro',\n",
    "                                         )\n",
    "\n",
    "start = time.time()\n",
    "grid_search_random_forest.fit(X_train, y_train)\n",
    "bagging_time = time.time() - start\n",
    "best_model = grid_search_random_forest.best_estimator_\n",
    "random_forest_predictions = best_model.predict(X_test)\n",
    "random_forest_test = best_model.predict(X_train)"
   ],
   "metadata": {
    "collapsed": false
   }
  },
  {
   "cell_type": "markdown",
   "source": [
    "# Задание 3\n",
    "Реализовать бустинг на тех же данных, что использовались для баггинга."
   ],
   "metadata": {
    "collapsed": false
   }
  },
  {
   "cell_type": "code",
   "execution_count": 10,
   "outputs": [],
   "source": [
    "model_boosting = ensemble.GradientBoostingClassifier()\n",
    "start = time.time()\n",
    "model_boosting.fit(X_train, y_train)\n",
    "boosting_time = time.time() - start\n",
    "boosting_train = model_boosting.predict(X_train)\n",
    "boosting_test = model_boosting.predict(X_test)"
   ],
   "metadata": {
    "collapsed": false
   }
  },
  {
   "cell_type": "markdown",
   "source": [
    "# Задание 4\n",
    "Сравнить результаты работы алгоритмов (время работы и качество моделей)."
   ],
   "metadata": {
    "collapsed": false
   }
  },
  {
   "cell_type": "code",
   "execution_count": 11,
   "outputs": [
    {
     "name": "stdout",
     "output_type": "stream",
     "text": [
      "Время работы Баггинга:  4.446210622787476\n",
      "F1 для тренировочных данных:  0.9971270028894141\n",
      "F1 для тестовых данных:  0.9966666296292181\n",
      "\n",
      "Время работы Бустинга:  0.2870826721191406\n",
      "F1 для тренировочных данных:  1.0\n",
      "F1 для тестовых данных:  0.9933330370238678\n"
     ]
    }
   ],
   "source": [
    "print('Время работы Баггинга: ', bagging_time)\n",
    "print('F1 для тренировочных данных: ', f1_score(y_train, random_forest_test, average='macro'))\n",
    "print('F1 для тестовых данных: ', f1_score(y_test, random_forest_predictions, average='macro'))\n",
    "print()\n",
    "print('Время работы Бустинга: ', boosting_time)\n",
    "print('F1 для тренировочных данных: ', f1_score(y_train, boosting_train, average='macro'))\n",
    "print('F1 для тестовых данных: ', f1_score(y_test, boosting_test, average='macro'))"
   ],
   "metadata": {
    "collapsed": false
   }
  }
 ],
 "metadata": {
  "kernelspec": {
   "display_name": "Python 3",
   "language": "python",
   "name": "python3"
  },
  "language_info": {
   "codemirror_mode": {
    "name": "ipython",
    "version": 2
   },
   "file_extension": ".py",
   "mimetype": "text/x-python",
   "name": "python",
   "nbconvert_exporter": "python",
   "pygments_lexer": "ipython2",
   "version": "2.7.6"
  }
 },
 "nbformat": 4,
 "nbformat_minor": 0
}

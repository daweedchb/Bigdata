{
 "cells": [
  {
   "cell_type": "code",
   "execution_count": 1,
   "metadata": {
    "collapsed": true
   },
   "outputs": [],
   "source": [
    "import pandas as pd\n",
    "import numpy as np\n",
    "import matplotlib.pyplot as plt\n",
    "import warnings\n",
    "import plotly.express as px\n",
    "import plotly.graph_objects as go\n",
    "import time as time\n",
    "from sklearn.metrics import silhouette_score\n",
    "from sklearn.cluster import KMeans\n",
    "from sklearn import preprocessing\n",
    "from sklearn.manifold import TSNE\n",
    "import seaborn as sns\n",
    "from sklearn.cluster import AgglomerativeClustering\n",
    "from sklearn.cluster import DBSCAN\n",
    "from sklearn.neighbors import NearestNeighbors\n",
    "\n",
    "warnings.filterwarnings('ignore')"
   ]
  },
  {
   "cell_type": "markdown",
   "source": [
    "# Задание 1\n",
    "Найти данные для кластеризации. Внимание, если признаки в данных имеют\n",
    "очень сильно разные масштабы, то необходимо данные предварительно нормализовать."
   ],
   "metadata": {
    "collapsed": false
   }
  },
  {
   "cell_type": "code",
   "execution_count": 3,
   "outputs": [
    {
     "name": "stdout",
     "output_type": "stream",
     "text": [
      "[1 0 2]\n",
      "[ 0  2 10  1 11 14 12  4  5 13  6]\n",
      "[1 0 2 4]\n"
     ]
    },
    {
     "data": {
      "text/plain": "     reviews_count  fuel_type  engine_displacement  no_cylinder  \\\n0         0.020912       0.25             0.147852     0.250000   \n1         0.035550       0.25             0.216593     0.333333   \n2         0.100795       0.00             0.323556     0.333333   \n3         0.130489       0.00             0.325630     0.333333   \n4         0.044333       0.00             0.325630     0.333333   \n..             ...        ...                  ...          ...   \n197       0.014220       0.25             0.294963     0.333333   \n198       0.000836       0.25             0.296000     0.333333   \n199       0.000418       0.00             0.289778     0.333333   \n200       0.003346       0.25             0.592296     0.666667   \n201       0.001255       0.25             0.117926     0.250000   \n\n     seating_capacity  transmission_type  fuel_tank_capacity  body_type  \\\n0            0.500000                0.5                0.27   0.000000   \n1            0.500000                0.5                0.48   0.142857   \n2            0.333333                0.5                0.57   0.142857   \n3            0.833333                0.5                0.60   0.142857   \n4            0.833333                0.5                0.57   0.142857   \n..                ...                ...                 ...        ...   \n197          0.500000                0.5                0.00   0.000000   \n198          0.500000                0.5                0.59   0.071429   \n199          0.833333                0.0                0.60   0.142857   \n200          0.500000                0.5                0.85   0.142857   \n201          0.500000                0.0                0.35   0.000000   \n\n     rating  starting_price  ending_price  max_torque_nm  max_torque_rpm  \\\n0      0.75        0.000854      0.002477       0.072617        0.500000   \n1      0.75        0.006547      0.011546       0.120231        0.628571   \n2      0.75        0.014432      0.013856       0.282797        0.400000   \n3      0.75        0.013934      0.023394       0.432214        0.400000   \n4      0.75        0.012240      0.022635       0.382409        0.392857   \n..      ...             ...           ...            ...             ...   \n197    0.75        0.004554      0.007117       0.482020        0.750000   \n198    0.75        0.009991      0.007586       0.382409        0.628571   \n199    0.75        0.018161      0.019121       0.332603        0.357143   \n200    0.25        0.304024      0.238055       0.780855        0.642857   \n201    0.75        0.000740      0.000402       0.052694        0.500000   \n\n     max_power_bhp  max_power_rp  \n0         0.070604      0.647059  \n1         0.116816      0.705882  \n2         0.153269      0.441176  \n3         0.220619      0.411765  \n4         0.207851      0.411765  \n..             ...           ...  \n197       0.520637      0.794118  \n198       0.313725      0.588235  \n199       0.201705      0.441176  \n200       0.746528      0.705882  \n201       0.046971      0.705882  \n\n[202 rows x 15 columns]",
      "text/html": "<div>\n<style scoped>\n    .dataframe tbody tr th:only-of-type {\n        vertical-align: middle;\n    }\n\n    .dataframe tbody tr th {\n        vertical-align: top;\n    }\n\n    .dataframe thead th {\n        text-align: right;\n    }\n</style>\n<table border=\"1\" class=\"dataframe\">\n  <thead>\n    <tr style=\"text-align: right;\">\n      <th></th>\n      <th>reviews_count</th>\n      <th>fuel_type</th>\n      <th>engine_displacement</th>\n      <th>no_cylinder</th>\n      <th>seating_capacity</th>\n      <th>transmission_type</th>\n      <th>fuel_tank_capacity</th>\n      <th>body_type</th>\n      <th>rating</th>\n      <th>starting_price</th>\n      <th>ending_price</th>\n      <th>max_torque_nm</th>\n      <th>max_torque_rpm</th>\n      <th>max_power_bhp</th>\n      <th>max_power_rp</th>\n    </tr>\n  </thead>\n  <tbody>\n    <tr>\n      <th>0</th>\n      <td>0.020912</td>\n      <td>0.25</td>\n      <td>0.147852</td>\n      <td>0.250000</td>\n      <td>0.500000</td>\n      <td>0.5</td>\n      <td>0.27</td>\n      <td>0.000000</td>\n      <td>0.75</td>\n      <td>0.000854</td>\n      <td>0.002477</td>\n      <td>0.072617</td>\n      <td>0.500000</td>\n      <td>0.070604</td>\n      <td>0.647059</td>\n    </tr>\n    <tr>\n      <th>1</th>\n      <td>0.035550</td>\n      <td>0.25</td>\n      <td>0.216593</td>\n      <td>0.333333</td>\n      <td>0.500000</td>\n      <td>0.5</td>\n      <td>0.48</td>\n      <td>0.142857</td>\n      <td>0.75</td>\n      <td>0.006547</td>\n      <td>0.011546</td>\n      <td>0.120231</td>\n      <td>0.628571</td>\n      <td>0.116816</td>\n      <td>0.705882</td>\n    </tr>\n    <tr>\n      <th>2</th>\n      <td>0.100795</td>\n      <td>0.00</td>\n      <td>0.323556</td>\n      <td>0.333333</td>\n      <td>0.333333</td>\n      <td>0.5</td>\n      <td>0.57</td>\n      <td>0.142857</td>\n      <td>0.75</td>\n      <td>0.014432</td>\n      <td>0.013856</td>\n      <td>0.282797</td>\n      <td>0.400000</td>\n      <td>0.153269</td>\n      <td>0.441176</td>\n    </tr>\n    <tr>\n      <th>3</th>\n      <td>0.130489</td>\n      <td>0.00</td>\n      <td>0.325630</td>\n      <td>0.333333</td>\n      <td>0.833333</td>\n      <td>0.5</td>\n      <td>0.60</td>\n      <td>0.142857</td>\n      <td>0.75</td>\n      <td>0.013934</td>\n      <td>0.023394</td>\n      <td>0.432214</td>\n      <td>0.400000</td>\n      <td>0.220619</td>\n      <td>0.411765</td>\n    </tr>\n    <tr>\n      <th>4</th>\n      <td>0.044333</td>\n      <td>0.00</td>\n      <td>0.325630</td>\n      <td>0.333333</td>\n      <td>0.833333</td>\n      <td>0.5</td>\n      <td>0.57</td>\n      <td>0.142857</td>\n      <td>0.75</td>\n      <td>0.012240</td>\n      <td>0.022635</td>\n      <td>0.382409</td>\n      <td>0.392857</td>\n      <td>0.207851</td>\n      <td>0.411765</td>\n    </tr>\n    <tr>\n      <th>...</th>\n      <td>...</td>\n      <td>...</td>\n      <td>...</td>\n      <td>...</td>\n      <td>...</td>\n      <td>...</td>\n      <td>...</td>\n      <td>...</td>\n      <td>...</td>\n      <td>...</td>\n      <td>...</td>\n      <td>...</td>\n      <td>...</td>\n      <td>...</td>\n      <td>...</td>\n    </tr>\n    <tr>\n      <th>197</th>\n      <td>0.014220</td>\n      <td>0.25</td>\n      <td>0.294963</td>\n      <td>0.333333</td>\n      <td>0.500000</td>\n      <td>0.5</td>\n      <td>0.00</td>\n      <td>0.000000</td>\n      <td>0.75</td>\n      <td>0.004554</td>\n      <td>0.007117</td>\n      <td>0.482020</td>\n      <td>0.750000</td>\n      <td>0.520637</td>\n      <td>0.794118</td>\n    </tr>\n    <tr>\n      <th>198</th>\n      <td>0.000836</td>\n      <td>0.25</td>\n      <td>0.296000</td>\n      <td>0.333333</td>\n      <td>0.500000</td>\n      <td>0.5</td>\n      <td>0.59</td>\n      <td>0.071429</td>\n      <td>0.75</td>\n      <td>0.009991</td>\n      <td>0.007586</td>\n      <td>0.382409</td>\n      <td>0.628571</td>\n      <td>0.313725</td>\n      <td>0.588235</td>\n    </tr>\n    <tr>\n      <th>199</th>\n      <td>0.000418</td>\n      <td>0.00</td>\n      <td>0.289778</td>\n      <td>0.333333</td>\n      <td>0.833333</td>\n      <td>0.0</td>\n      <td>0.60</td>\n      <td>0.142857</td>\n      <td>0.75</td>\n      <td>0.018161</td>\n      <td>0.019121</td>\n      <td>0.332603</td>\n      <td>0.357143</td>\n      <td>0.201705</td>\n      <td>0.441176</td>\n    </tr>\n    <tr>\n      <th>200</th>\n      <td>0.003346</td>\n      <td>0.25</td>\n      <td>0.592296</td>\n      <td>0.666667</td>\n      <td>0.500000</td>\n      <td>0.5</td>\n      <td>0.85</td>\n      <td>0.142857</td>\n      <td>0.25</td>\n      <td>0.304024</td>\n      <td>0.238055</td>\n      <td>0.780855</td>\n      <td>0.642857</td>\n      <td>0.746528</td>\n      <td>0.705882</td>\n    </tr>\n    <tr>\n      <th>201</th>\n      <td>0.001255</td>\n      <td>0.25</td>\n      <td>0.117926</td>\n      <td>0.250000</td>\n      <td>0.500000</td>\n      <td>0.0</td>\n      <td>0.35</td>\n      <td>0.000000</td>\n      <td>0.75</td>\n      <td>0.000740</td>\n      <td>0.000402</td>\n      <td>0.052694</td>\n      <td>0.500000</td>\n      <td>0.046971</td>\n      <td>0.705882</td>\n    </tr>\n  </tbody>\n</table>\n<p>202 rows × 15 columns</p>\n</div>"
     },
     "execution_count": 3,
     "metadata": {},
     "output_type": "execute_result"
    }
   ],
   "source": [
    "data = pd.read_csv(\"CARS_1.csv\", sep=\",\")\n",
    "data.dropna(inplace=True)\n",
    "data.isnull().sum()\n",
    "data.drop(['car_name'], axis=1, inplace=True)\n",
    "\n",
    "data.replace({'fuel_type': {'Diesel': 0, 'Petrol': 1, 'CNG': 2, 'LPG': 3, 'Electric': 4}}, inplace=True)\n",
    "data.replace({'transmission_type': {'Manual': 0, 'Automatic': 1, 'Electric': 2}}, inplace=True)\n",
    "data.replace({'body_type': {'Hatchback': 0, 'Sedan': 1, 'SUV': 2, 'MPV': 3, 'Coupe': 4, 'Convertible': 5, 'Wagon': 6,\n",
    "                            'Van': 7, 'Pickup': 8, 'Other': 9, 'MUV': 10, 'Hybrid': 11, 'Pickup Truck': 12,\n",
    "                            'Luxury': 13, 'Minivan': 14}}, inplace=True)\n",
    "\n",
    "print(data['transmission_type'].unique())\n",
    "print(data['body_type'].unique())\n",
    "print(data['fuel_type'].unique())\n",
    "\n",
    "scaler = preprocessing.MinMaxScaler()\n",
    "D = pd.DataFrame(scaler.fit_transform(data), columns=data.columns)\n",
    "D"
   ],
   "metadata": {
    "collapsed": false
   }
  },
  {
   "cell_type": "markdown",
   "source": [
    "# Задание 2\n",
    "Провести кластеризацию данных с помощью алгоритма k-means. Использовать «правило локтя»\n",
    "и коэффициент силуэта для поиска оптимального количества кластеров."
   ],
   "metadata": {
    "collapsed": false
   }
  },
  {
   "cell_type": "code",
   "execution_count": null,
   "outputs": [],
   "source": [
    "models = []\n",
    "score1 = []\n",
    "score2 = []\n",
    "\n",
    "for i in range(2, 10):\n",
    "    model = KMeans(n_clusters=i, random_state=123, init='k-means++').fit(D)\n",
    "    models.append(model)\n",
    "    score1.append(model.inertia_)\n",
    "    score2.append(silhouette_score(D, model.labels_))\n",
    "\n",
    "plt.grid()\n",
    "plt.plot(range(2, 10), score1, marker='o')\n",
    "plt.show()\n",
    "\n",
    "plt.grid()\n",
    "plt.plot(range(2, 10), score2, marker='o')\n",
    "plt.show()"
   ],
   "metadata": {
    "collapsed": false
   }
  },
  {
   "cell_type": "markdown",
   "source": [
    "# Задание 3"
   ],
   "metadata": {
    "collapsed": false
   }
  },
  {
   "cell_type": "code",
   "execution_count": null,
   "outputs": [],
   "source": [],
   "metadata": {
    "collapsed": false
   }
  },
  {
   "cell_type": "markdown",
   "source": [
    "# Задание 4"
   ],
   "metadata": {
    "collapsed": false
   }
  },
  {
   "cell_type": "code",
   "execution_count": null,
   "outputs": [],
   "source": [],
   "metadata": {
    "collapsed": false
   }
  },
  {
   "cell_type": "markdown",
   "source": [
    "# Задание 5"
   ],
   "metadata": {
    "collapsed": false
   }
  },
  {
   "cell_type": "code",
   "execution_count": null,
   "outputs": [],
   "source": [],
   "metadata": {
    "collapsed": false
   }
  },
  {
   "cell_type": "markdown",
   "source": [
    "# Задание 6"
   ],
   "metadata": {
    "collapsed": false
   }
  },
  {
   "cell_type": "code",
   "execution_count": null,
   "outputs": [],
   "source": [],
   "metadata": {
    "collapsed": false
   }
  }
 ],
 "metadata": {
  "kernelspec": {
   "display_name": "Python 3",
   "language": "python",
   "name": "python3"
  },
  "language_info": {
   "codemirror_mode": {
    "name": "ipython",
    "version": 2
   },
   "file_extension": ".py",
   "mimetype": "text/x-python",
   "name": "python",
   "nbconvert_exporter": "python",
   "pygments_lexer": "ipython2",
   "version": "2.7.6"
  }
 },
 "nbformat": 4,
 "nbformat_minor": 0
}

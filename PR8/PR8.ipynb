{
 "cells": [
  {
   "cell_type": "markdown",
   "source": [
    "# Задание 1\n",
    "Определить два вектора, представляющие собой число автомобилей, припаркованных в течении\n",
    "5 рабочих дней у бизнес-центра на уличной стоянке и в подземном гараже\n",
    "\n",
    "| День | Улица | Гараж |\n",
    "| :-: | :--: | :--: |\n",
    "| Понедельник | 80 | 100 |\n",
    "| Вторник | 98 | 82 |\n",
    "| Среда | 75 | 105 |\n",
    "| Четверг | 91 | 89 |\n",
    "| Пятница | 78 | 102\n",
    "\n",
    "Найти и интерпретировать корреляцию между переменными «Улица» и\n",
    "«Гараж» (подсчитать корреляцию по Пирсону)."
   ],
   "metadata": {
    "collapsed": false
   }
  },
  {
   "cell_type": "code",
   "execution_count": 31,
   "outputs": [],
   "source": [
    "import pandas as pd\n",
    "import numpy as np\n",
    "import matplotlib.pyplot as plt\n",
    "from sklearn.linear_model import LinearRegression"
   ],
   "metadata": {
    "collapsed": false
   }
  },
  {
   "cell_type": "code",
   "execution_count": 36,
   "outputs": [
    {
     "name": "stdout",
     "output_type": "stream",
     "text": [
      "          День  Улица  Гараж\n",
      "0  Понедельник     80    100\n",
      "1      Вторник     98     82\n",
      "2        Среда     75    105\n",
      "3      Четверг     91     89\n",
      "4      Пятница     78    102\n",
      "Коррелляция по Пирсону:  -0.9999999999999998\n"
     ]
    }
   ],
   "source": [
    "df_cars = pd.DataFrame({'День': ['Понедельник', 'Вторник', 'Среда', 'Четверг', 'Пятница', ],\n",
    "                        'Улица': [80, 98, 75, 91, 78],\n",
    "                        'Гараж': [100, 82, 105, 89, 102],\n",
    "                        })\n",
    "print(df_cars)\n",
    "\n",
    "vector1 = np.array(df_cars['Улица'])\n",
    "vector2 = np.array(df_cars['Гараж'])\n",
    "print('Коррелляция по Пирсону: ', np.corrcoef(vector1, vector2)[0, 1])"
   ],
   "metadata": {
    "collapsed": false
   }
  },
  {
   "cell_type": "markdown",
   "source": [
    "# Задание 2\n",
    "Построить диаграмму рассеяния"
   ],
   "metadata": {
    "collapsed": false
   }
  },
  {
   "cell_type": "code",
   "execution_count": 37,
   "outputs": [
    {
     "data": {
      "text/plain": "Text(0, 0.5, 'В гараже')"
     },
     "execution_count": 37,
     "metadata": {},
     "output_type": "execute_result"
    },
    {
     "data": {
      "text/plain": "<Figure size 640x480 with 1 Axes>",
      "image/png": "[encoded data removed]"
     },
     "metadata": {},
     "output_type": "display_data"
    }
   ],
   "source": [
    "plt.scatter(vector1, vector2)\n",
    "plt.grid(True)\n",
    "plt.title('Диаграмма рассеяния')\n",
    "plt.xlabel('На улице')\n",
    "plt.ylabel('В гараже')"
   ],
   "metadata": {
    "collapsed": false
   }
  },
  {
   "cell_type": "markdown",
   "source": [
    "# Задание 3\n",
    "Загрузить bitcoin.csv."
   ],
   "metadata": {
    "collapsed": false
   }
  },
  {
   "cell_type": "code",
   "execution_count": 47,
   "outputs": [
    {
     "name": "stdout",
     "output_type": "stream",
     "text": [
      "1987    34611.58\n",
      "1988    35662.59\n",
      "1989    37290.83\n",
      "1990    36683.51\n",
      "1991    37576.98\n",
      "1992    39229.66\n",
      "1993    36861.50\n",
      "1994    35538.40\n",
      "1995    35798.57\n",
      "1996    33582.86\n",
      "1997    33409.38\n",
      "1998    37391.58\n",
      "1999    36680.78\n",
      "2000    36843.33\n",
      "Name: close, dtype: float64\n"
     ]
    }
   ],
   "source": [
    "df_bitcoin = pd.read_csv('bitcoin.csv')\n",
    "df_bitcoin\n",
    "\n",
    "y_test = df_bitcoin[-14:]['close']\n",
    "print(y_test)"
   ],
   "metadata": {
    "collapsed": false
   }
  },
  {
   "cell_type": "markdown",
   "source": [
    "# Задание 4\n",
    "Убрать из данных для обучения модели последние 14 дней."
   ],
   "metadata": {
    "collapsed": false
   }
  },
  {
   "cell_type": "code",
   "execution_count": 46,
   "outputs": [
    {
     "name": "stdout",
     "output_type": "stream",
     "text": [
      "1959    57843.16\n",
      "1960    56623.51\n",
      "1961    57195.07\n",
      "1962    53244.07\n",
      "1963    57506.88\n",
      "1964    56441.94\n",
      "1965    57374.33\n",
      "1966    58943.13\n",
      "1967    58294.18\n",
      "1968    55870.01\n",
      "1969    56747.52\n",
      "1970    49504.08\n",
      "1971    49700.60\n",
      "1972    49887.96\n",
      "Name: close, dtype: float64\n"
     ]
    },
    {
     "data": {
      "text/plain": "      Unnamed: 0        time      high       low      open  volumefrom  \\\n0              0  2015-12-20    462.76    431.10    461.20   121531.64   \n1              1  2015-12-21    445.54    423.99    441.78   121990.88   \n2              2  2015-12-22    443.22    433.25    437.59    65785.54   \n3              3  2015-12-23    444.78    434.28    437.03    63247.04   \n4              4  2015-12-24    460.62    441.76    442.43    79604.01   \n...          ...         ...       ...       ...       ...         ...   \n1954        1954  2021-04-26  54389.71  48843.41  49120.97    61603.50   \n1955        1955  2021-04-27  55490.94  53357.59  54062.29    40602.56   \n1956        1956  2021-04-28  56461.55  53886.63  55073.48    42647.15   \n1957        1957  2021-04-29  55217.24  52399.42  54877.94    43948.76   \n1958        1958  2021-04-30  57984.34  53089.93  53581.58    48771.00   \n\n           volumeto     close  \n0       54316484.95    441.78  \n1        53270215.6    437.59  \n2       28845536.39    437.03  \n3        27877349.1    442.43  \n4       36096662.15    452.98  \n...             ...       ...  \n1954  3254396664.97  54062.29  \n1955  2220077233.11  55073.48  \n1956  2339383717.48  54877.94  \n1957  2359198137.55  53581.58  \n1958   2719315702.2  57757.97  \n\n[1959 rows x 8 columns]",
      "text/html": "<div>\n<style scoped>\n    .dataframe tbody tr th:only-of-type {\n        vertical-align: middle;\n    }\n\n    .dataframe tbody tr th {\n        vertical-align: top;\n    }\n\n    .dataframe thead th {\n        text-align: right;\n    }\n</style>\n<table border=\"1\" class=\"dataframe\">\n  <thead>\n    <tr style=\"text-align: right;\">\n      <th></th>\n      <th>Unnamed: 0</th>\n      <th>time</th>\n      <th>high</th>\n      <th>low</th>\n      <th>open</th>\n      <th>volumefrom</th>\n      <th>volumeto</th>\n      <th>close</th>\n    </tr>\n  </thead>\n  <tbody>\n    <tr>\n      <th>0</th>\n      <td>0</td>\n      <td>2015-12-20</td>\n      <td>462.76</td>\n      <td>431.10</td>\n      <td>461.20</td>\n      <td>121531.64</td>\n      <td>54316484.95</td>\n      <td>441.78</td>\n    </tr>\n    <tr>\n      <th>1</th>\n      <td>1</td>\n      <td>2015-12-21</td>\n      <td>445.54</td>\n      <td>423.99</td>\n      <td>441.78</td>\n      <td>121990.88</td>\n      <td>53270215.6</td>\n      <td>437.59</td>\n    </tr>\n    <tr>\n      <th>2</th>\n      <td>2</td>\n      <td>2015-12-22</td>\n      <td>443.22</td>\n      <td>433.25</td>\n      <td>437.59</td>\n      <td>65785.54</td>\n      <td>28845536.39</td>\n      <td>437.03</td>\n    </tr>\n    <tr>\n      <th>3</th>\n      <td>3</td>\n      <td>2015-12-23</td>\n      <td>444.78</td>\n      <td>434.28</td>\n      <td>437.03</td>\n      <td>63247.04</td>\n      <td>27877349.1</td>\n      <td>442.43</td>\n    </tr>\n    <tr>\n      <th>4</th>\n      <td>4</td>\n      <td>2015-12-24</td>\n      <td>460.62</td>\n      <td>441.76</td>\n      <td>442.43</td>\n      <td>79604.01</td>\n      <td>36096662.15</td>\n      <td>452.98</td>\n    </tr>\n    <tr>\n      <th>...</th>\n      <td>...</td>\n      <td>...</td>\n      <td>...</td>\n      <td>...</td>\n      <td>...</td>\n      <td>...</td>\n      <td>...</td>\n      <td>...</td>\n    </tr>\n    <tr>\n      <th>1954</th>\n      <td>1954</td>\n      <td>2021-04-26</td>\n      <td>54389.71</td>\n      <td>48843.41</td>\n      <td>49120.97</td>\n      <td>61603.50</td>\n      <td>3254396664.97</td>\n      <td>54062.29</td>\n    </tr>\n    <tr>\n      <th>1955</th>\n      <td>1955</td>\n      <td>2021-04-27</td>\n      <td>55490.94</td>\n      <td>53357.59</td>\n      <td>54062.29</td>\n      <td>40602.56</td>\n      <td>2220077233.11</td>\n      <td>55073.48</td>\n    </tr>\n    <tr>\n      <th>1956</th>\n      <td>1956</td>\n      <td>2021-04-28</td>\n      <td>56461.55</td>\n      <td>53886.63</td>\n      <td>55073.48</td>\n      <td>42647.15</td>\n      <td>2339383717.48</td>\n      <td>54877.94</td>\n    </tr>\n    <tr>\n      <th>1957</th>\n      <td>1957</td>\n      <td>2021-04-29</td>\n      <td>55217.24</td>\n      <td>52399.42</td>\n      <td>54877.94</td>\n      <td>43948.76</td>\n      <td>2359198137.55</td>\n      <td>53581.58</td>\n    </tr>\n    <tr>\n      <th>1958</th>\n      <td>1958</td>\n      <td>2021-04-30</td>\n      <td>57984.34</td>\n      <td>53089.93</td>\n      <td>53581.58</td>\n      <td>48771.00</td>\n      <td>2719315702.2</td>\n      <td>57757.97</td>\n    </tr>\n  </tbody>\n</table>\n<p>1959 rows × 8 columns</p>\n</div>"
     },
     "execution_count": 46,
     "metadata": {},
     "output_type": "execute_result"
    }
   ],
   "source": [
    "#Нормализация данных\n",
    "df_bitcoin['volumeto'] = np.array(df_bitcoin['volumeto'], type(float))\n",
    "\n",
    "df_bitcoin.drop(df_bitcoin.tail(14).index, inplace=True)\n",
    "df_bitcoin"
   ],
   "metadata": {
    "collapsed": false
   }
  },
  {
   "cell_type": "markdown",
   "source": [
    "# Задание 5\n",
    " Предсказать стоимость криптовалюты на следующие 14 дней с помощью линейной регрессии."
   ],
   "metadata": {
    "collapsed": false
   }
  },
  {
   "cell_type": "code",
   "execution_count": 44,
   "outputs": [
    {
     "name": "stdout",
     "output_type": "stream",
     "text": [
      "1973    46775.29\n",
      "1974    46490.71\n",
      "1975    43552.14\n",
      "1976    42886.02\n",
      "1977    36771.87\n",
      "1978    40597.40\n",
      "1979    37350.39\n",
      "1980    37491.50\n",
      "1981    34716.84\n",
      "1982    38837.76\n",
      "1983    38387.36\n",
      "1984    39295.08\n",
      "1985    38538.84\n",
      "1986    35680.92\n",
      "Name: close, dtype: float64\n"
     ]
    }
   ],
   "source": [
    "#Присваивание значений параметрам регрессии\n",
    "x_train = df_bitcoin[:-14].drop(['close', 'time', 'Unnamed: 0'], axis=1)\n",
    "x_test = df_bitcoin[-14:].drop(['close', 'time', 'Unnamed: 0'], axis=1)\n",
    "y_train = df_bitcoin[:-14]['close']\n",
    "y_test = df_bitcoin[-14:]['close']\n",
    "\n",
    "print(y_test)\n",
    "\n",
    "model = LinearRegression()\n",
    "model.fit(x_train, y_train)\n",
    "y_pred = model.predict(x_test)\n"
   ],
   "metadata": {
    "collapsed": false
   }
  },
  {
   "cell_type": "markdown",
   "source": [
    "# Задание 6\n",
    "С помощью коэффициента детерминации сравнить исходные данные 14-ти последних дней, которые были обрезаны перед обучением модели, и 14 дней, которые предсказала модель."
   ],
   "metadata": {
    "collapsed": false
   }
  },
  {
   "cell_type": "markdown",
   "source": [
    "# Задание 7\n",
    "Вывести угол наклона и y-перехват."
   ],
   "metadata": {
    "collapsed": false
   }
  },
  {
   "cell_type": "markdown",
   "source": [
    "# Задание 8\n",
    "Построить диаграмму рассеяния (ось х – это close, ось y – это предсказанные моделью close)."
   ],
   "metadata": {
    "collapsed": false
   }
  },
  {
   "cell_type": "markdown",
   "source": [
    "# Задание 9\n",
    "Загрузить housePrice.csv"
   ],
   "metadata": {
    "collapsed": false
   }
  },
  {
   "cell_type": "markdown",
   "source": [
    "# Задание 10\n",
    "Произвести предобработку данных."
   ],
   "metadata": {
    "collapsed": false
   }
  },
  {
   "cell_type": "markdown",
   "source": [
    "# Задание 11\n",
    "Реализовать линейную регрессию вручную, без использования библиотеки."
   ],
   "metadata": {
    "collapsed": false
   }
  },
  {
   "cell_type": "markdown",
   "source": [
    "# Задание 11\n",
    "Вывести угол наклона и y-перехват."
   ],
   "metadata": {
    "collapsed": false
   }
  },
  {
   "cell_type": "markdown",
   "source": [
    "# Задание 12\n",
    "Вывести угол наклона и y-перехват."
   ],
   "metadata": {
    "collapsed": false
   }
  },
  {
   "cell_type": "markdown",
   "source": [
    "# Задание 13\n",
    "Построить диаграмму."
   ],
   "metadata": {
    "collapsed": false
   }
  }
 ],
 "metadata": {
  "kernelspec": {
   "display_name": "Python 3",
   "language": "python",
   "name": "python3"
  },
  "language_info": {
   "codemirror_mode": {
    "name": "ipython",
    "version": 2
   },
   "file_extension": ".py",
   "mimetype": "text/x-python",
   "name": "python",
   "nbconvert_exporter": "python",
   "pygments_lexer": "ipython2",
   "version": "2.7.6"
  }
 },
 "nbformat": 4,
 "nbformat_minor": 0
}

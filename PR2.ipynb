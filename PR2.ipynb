{
 "cells": [
  {
   "cell_type": "code",
   "execution_count": 21,
   "outputs": [],
   "source": [
    "import pandas as pd\n",
    "import numpy as np"
   ],
   "metadata": {
    "collapsed": false
   }
  },
  {
   "cell_type": "markdown",
   "source": [
    "Задание 1"
   ],
   "metadata": {
    "collapsed": false
   }
  },
  {
   "cell_type": "code",
   "execution_count": 22,
   "outputs": [
    {
     "name": "stdout",
     "output_type": "stream",
     "text": [
      "Текущая сумма:  1\n",
      "Текущая сумма:  0\n",
      "Квадраты чисел: \n",
      "1 1 "
     ]
    }
   ],
   "source": [
    "def task1():\n",
    "    summ = 0\n",
    "    numbers = []\n",
    "    while True:\n",
    "        number = int(input(\"Введите число: \"))\n",
    "        summ += number\n",
    "        numbers.append(number)\n",
    "        print(\"Текущая сумма: \", summ)\n",
    "        if summ == 0:\n",
    "            break\n",
    "    print(\"Квадраты чисел: \")\n",
    "    for num in numbers:\n",
    "        print(num ** 2, end=\" \")\n",
    "\n",
    "\n",
    "task1()"
   ],
   "metadata": {
    "collapsed": false
   }
  },
  {
   "cell_type": "markdown",
   "source": [
    "Задание 2"
   ],
   "metadata": {
    "collapsed": false
   }
  },
  {
   "cell_type": "code",
   "execution_count": 23,
   "outputs": [
    {
     "name": "stdout",
     "output_type": "stream",
     "text": [
      "1 2 2 3 3 3 4\n"
     ]
    }
   ],
   "source": [
    "def task2(n):\n",
    "    l = n + 1\n",
    "    result = []\n",
    "\n",
    "    for i in range(1, n + 1):\n",
    "        for j in range(i):\n",
    "            l -= 1\n",
    "            if l > 0:\n",
    "                result.append(i)\n",
    "    return result\n",
    "\n",
    "\n",
    "print(*task2(7))"
   ],
   "metadata": {
    "collapsed": false
   }
  },
  {
   "cell_type": "markdown",
   "source": [
    "Задание 3"
   ],
   "metadata": {
    "collapsed": false
   }
  },
  {
   "cell_type": "code",
   "execution_count": 24,
   "outputs": [
    {
     "name": "stdout",
     "output_type": "stream",
     "text": [
      "[[63  4 50 70]\n",
      " [16 91 72 87]\n",
      " [51 96 44 51]]\n",
      "[63, 4, 50, 70, 16, 91, 72, 87, 51, 96, 44, 51]\n"
     ]
    }
   ],
   "source": [
    "def task3(matrix):\n",
    "    result = []\n",
    "    for i in range(len(matrix)):\n",
    "        for j in range(len(matrix[i])):\n",
    "            result.append(matrix[i][j])\n",
    "\n",
    "    return result\n",
    "\n",
    "\n",
    "matrix = np.random.randint(100, size=(3, 4))\n",
    "print(matrix)\n",
    "print(task3(matrix))"
   ],
   "metadata": {
    "collapsed": false
   }
  },
  {
   "cell_type": "markdown",
   "source": [
    "Задание 4"
   ],
   "metadata": {
    "collapsed": false
   }
  },
  {
   "cell_type": "code",
   "execution_count": 25,
   "outputs": [
    {
     "name": "stdout",
     "output_type": "stream",
     "text": [
      "{'a': 17, 'b': 11, 'c': 17}\n"
     ]
    }
   ],
   "source": [
    "a = [1, 2, 3, 4, 2, 1, 3, 4, 5, 6, 5, 4, 3, 2]\n",
    "b = ['a', 'b', 'c', 'c', 'c', 'b', 'a', 'c', 'a', 'a', 'b', 'c', 'b', 'a']\n",
    "\n",
    "\n",
    "def task4(a, b):\n",
    "    dictionary = dict.fromkeys(b, 0)\n",
    "    for i in range(len(b)):\n",
    "        dictionary[b[i]] += a[i]\n",
    "    return dictionary\n",
    "\n",
    "\n",
    "print(task4(a, b))"
   ],
   "metadata": {
    "collapsed": false
   }
  },
  {
   "cell_type": "markdown",
   "source": [
    "Задание 5"
   ],
   "metadata": {
    "collapsed": false
   }
  },
  {
   "cell_type": "code",
   "execution_count": 26,
   "outputs": [
    {
     "name": "stdout",
     "output_type": "stream",
     "text": [
      "       MedInc  HouseAge  AveRooms  AveBedrms  Population  AveOccup  Latitude  \\\n",
      "0      8.3252      41.0  6.984127   1.023810       322.0  2.555556     37.88   \n",
      "1      8.3014      21.0  6.238137   0.971880      2401.0  2.109842     37.86   \n",
      "2      7.2574      52.0  8.288136   1.073446       496.0  2.802260     37.85   \n",
      "3      5.6431      52.0  5.817352   1.073059       558.0  2.547945     37.85   \n",
      "4      3.8462      52.0  6.281853   1.081081       565.0  2.181467     37.85   \n",
      "...       ...       ...       ...        ...         ...       ...       ...   \n",
      "20635  1.5603      25.0  5.045455   1.133333       845.0  2.560606     39.48   \n",
      "20636  2.5568      18.0  6.114035   1.315789       356.0  3.122807     39.49   \n",
      "20637  1.7000      17.0  5.205543   1.120092      1007.0  2.325635     39.43   \n",
      "20638  1.8672      18.0  5.329513   1.171920       741.0  2.123209     39.43   \n",
      "20639  2.3886      16.0  5.254717   1.162264      1387.0  2.616981     39.37   \n",
      "\n",
      "       Longitude  \n",
      "0        -122.23  \n",
      "1        -122.22  \n",
      "2        -122.24  \n",
      "3        -122.25  \n",
      "4        -122.25  \n",
      "...          ...  \n",
      "20635    -121.09  \n",
      "20636    -121.21  \n",
      "20637    -121.22  \n",
      "20638    -121.32  \n",
      "20639    -121.24  \n",
      "\n",
      "[20640 rows x 8 columns]\n"
     ]
    }
   ],
   "source": [
    "from sklearn.datasets import fetch_california_housing\n",
    "\n",
    "data = fetch_california_housing(as_frame=True)\n",
    "print(data.data)"
   ],
   "metadata": {
    "collapsed": false
   }
  },
  {
   "cell_type": "markdown",
   "source": [
    "Задание 6"
   ],
   "metadata": {
    "collapsed": false
   }
  },
  {
   "cell_type": "code",
   "execution_count": 27,
   "outputs": [
    {
     "name": "stdout",
     "output_type": "stream",
     "text": [
      "       MedInc  HouseAge  AveRooms  AveBedrms  Population  AveOccup  Latitude  \\\n",
      "0      8.3252      41.0  6.984127   1.023810       322.0  2.555556     37.88   \n",
      "1      8.3014      21.0  6.238137   0.971880      2401.0  2.109842     37.86   \n",
      "2      7.2574      52.0  8.288136   1.073446       496.0  2.802260     37.85   \n",
      "3      5.6431      52.0  5.817352   1.073059       558.0  2.547945     37.85   \n",
      "4      3.8462      52.0  6.281853   1.081081       565.0  2.181467     37.85   \n",
      "...       ...       ...       ...        ...         ...       ...       ...   \n",
      "20635  1.5603      25.0  5.045455   1.133333       845.0  2.560606     39.48   \n",
      "20636  2.5568      18.0  6.114035   1.315789       356.0  3.122807     39.49   \n",
      "20637  1.7000      17.0  5.205543   1.120092      1007.0  2.325635     39.43   \n",
      "20638  1.8672      18.0  5.329513   1.171920       741.0  2.123209     39.43   \n",
      "20639  2.3886      16.0  5.254717   1.162264      1387.0  2.616981     39.37   \n",
      "\n",
      "       Longitude  MedHouseVal  \n",
      "0        -122.23        4.526  \n",
      "1        -122.22        3.585  \n",
      "2        -122.24        3.521  \n",
      "3        -122.25        3.413  \n",
      "4        -122.25        3.422  \n",
      "...          ...          ...  \n",
      "20635    -121.09        0.781  \n",
      "20636    -121.21        0.771  \n",
      "20637    -121.22        0.923  \n",
      "20638    -121.32        0.847  \n",
      "20639    -121.24        0.894  \n",
      "\n",
      "[20640 rows x 9 columns]\n"
     ]
    }
   ],
   "source": [
    "data1 = pd.concat([data.data, data.target], axis=1)\n",
    "print(data1)"
   ],
   "metadata": {
    "collapsed": false
   }
  },
  {
   "cell_type": "markdown",
   "source": [
    "Задание 7"
   ],
   "metadata": {
    "collapsed": false
   }
  },
  {
   "cell_type": "code",
   "execution_count": 28,
   "outputs": [
    {
     "name": "stdout",
     "output_type": "stream",
     "text": [
      "<class 'pandas.core.frame.DataFrame'>\n",
      "RangeIndex: 20640 entries, 0 to 20639\n",
      "Data columns (total 9 columns):\n",
      " #   Column       Non-Null Count  Dtype  \n",
      "---  ------       --------------  -----  \n",
      " 0   MedInc       20640 non-null  float64\n",
      " 1   HouseAge     20640 non-null  float64\n",
      " 2   AveRooms     20640 non-null  float64\n",
      " 3   AveBedrms    20640 non-null  float64\n",
      " 4   Population   20640 non-null  float64\n",
      " 5   AveOccup     20640 non-null  float64\n",
      " 6   Latitude     20640 non-null  float64\n",
      " 7   Longitude    20640 non-null  float64\n",
      " 8   MedHouseVal  20640 non-null  float64\n",
      "dtypes: float64(9)\n",
      "memory usage: 1.4 MB\n"
     ]
    }
   ],
   "source": [
    "data.frame.info()"
   ],
   "metadata": {
    "collapsed": false
   }
  },
  {
   "cell_type": "markdown",
   "source": [
    "Задание 8"
   ],
   "metadata": {
    "collapsed": false
   }
  },
  {
   "cell_type": "code",
   "execution_count": 29,
   "outputs": [
    {
     "data": {
      "text/plain": "       0      1      2\n0  Test1  Test2  Test3\n1      2    223   2424",
      "text/html": "<div>\n<style scoped>\n    .dataframe tbody tr th:only-of-type {\n        vertical-align: middle;\n    }\n\n    .dataframe tbody tr th {\n        vertical-align: top;\n    }\n\n    .dataframe thead th {\n        text-align: right;\n    }\n</style>\n<table border=\"1\" class=\"dataframe\">\n  <thead>\n    <tr style=\"text-align: right;\">\n      <th></th>\n      <th>0</th>\n      <th>1</th>\n      <th>2</th>\n    </tr>\n  </thead>\n  <tbody>\n    <tr>\n      <th>0</th>\n      <td>Test1</td>\n      <td>Test2</td>\n      <td>Test3</td>\n    </tr>\n    <tr>\n      <th>1</th>\n      <td>2</td>\n      <td>223</td>\n      <td>2424</td>\n    </tr>\n  </tbody>\n</table>\n</div>"
     },
     "execution_count": 29,
     "metadata": {},
     "output_type": "execute_result"
    }
   ],
   "source": [
    "data1.isna().sum()\n",
    "\n",
    "a = pd.Series(['Test1', 'Test2', 'Test3'])\n",
    "b = pd.Series([2, 223, 2424])\n",
    "pd.DataFrame(data=[a, b])"
   ],
   "metadata": {
    "collapsed": false
   }
  },
  {
   "cell_type": "markdown",
   "source": [
    "Задание 9"
   ],
   "metadata": {
    "collapsed": false
   }
  },
  {
   "cell_type": "code",
   "execution_count": 30,
   "outputs": [
    {
     "data": {
      "text/plain": "       MedInc  HouseAge  AveRooms  AveBedrms  Population    AveOccup  \\\n460    1.4012      52.0  3.105714   1.060000      3337.0    9.534286   \n4131   3.5349      52.0  4.646119   1.047945      2589.0    5.910959   \n4440   2.6806      52.0  4.806283   1.057592      3062.0    4.007853   \n5986   1.8750      52.0  4.500000   1.206349      2688.0   21.333333   \n7369   3.1901      52.0  4.730942   1.017937      3731.0    4.182735   \n8227   2.3305      52.0  3.488860   1.170380      3018.0    3.955439   \n13034  6.1359      52.0  8.275862   1.517241      6675.0  230.172414   \n15634  1.8295      52.0  2.628169   1.053521      2957.0    4.164789   \n15652  0.9000      52.0  2.237474   1.053535      3260.0    2.237474   \n15657  2.5166      52.0  2.839075   1.184049      3436.0    1.621520   \n15659  1.7240      52.0  2.278566   1.082348      4518.0    1.780142   \n15795  2.5755      52.0  3.402576   1.058776      2619.0    2.108696   \n15868  2.8135      52.0  4.584329   1.041169      2987.0    3.966799   \n\n       Latitude  Longitude  \n460       37.87    -122.26  \n4131      34.13    -118.20  \n4440      34.08    -118.21  \n5986      34.10    -117.71  \n7369      33.97    -118.21  \n8227      33.78    -118.20  \n13034     38.69    -121.15  \n15634     37.80    -122.41  \n15652     37.80    -122.41  \n15657     37.79    -122.41  \n15659     37.79    -122.41  \n15795     37.77    -122.42  \n15868     37.76    -122.41  ",
      "text/html": "<div>\n<style scoped>\n    .dataframe tbody tr th:only-of-type {\n        vertical-align: middle;\n    }\n\n    .dataframe tbody tr th {\n        vertical-align: top;\n    }\n\n    .dataframe thead th {\n        text-align: right;\n    }\n</style>\n<table border=\"1\" class=\"dataframe\">\n  <thead>\n    <tr style=\"text-align: right;\">\n      <th></th>\n      <th>MedInc</th>\n      <th>HouseAge</th>\n      <th>AveRooms</th>\n      <th>AveBedrms</th>\n      <th>Population</th>\n      <th>AveOccup</th>\n      <th>Latitude</th>\n      <th>Longitude</th>\n    </tr>\n  </thead>\n  <tbody>\n    <tr>\n      <th>460</th>\n      <td>1.4012</td>\n      <td>52.0</td>\n      <td>3.105714</td>\n      <td>1.060000</td>\n      <td>3337.0</td>\n      <td>9.534286</td>\n      <td>37.87</td>\n      <td>-122.26</td>\n    </tr>\n    <tr>\n      <th>4131</th>\n      <td>3.5349</td>\n      <td>52.0</td>\n      <td>4.646119</td>\n      <td>1.047945</td>\n      <td>2589.0</td>\n      <td>5.910959</td>\n      <td>34.13</td>\n      <td>-118.20</td>\n    </tr>\n    <tr>\n      <th>4440</th>\n      <td>2.6806</td>\n      <td>52.0</td>\n      <td>4.806283</td>\n      <td>1.057592</td>\n      <td>3062.0</td>\n      <td>4.007853</td>\n      <td>34.08</td>\n      <td>-118.21</td>\n    </tr>\n    <tr>\n      <th>5986</th>\n      <td>1.8750</td>\n      <td>52.0</td>\n      <td>4.500000</td>\n      <td>1.206349</td>\n      <td>2688.0</td>\n      <td>21.333333</td>\n      <td>34.10</td>\n      <td>-117.71</td>\n    </tr>\n    <tr>\n      <th>7369</th>\n      <td>3.1901</td>\n      <td>52.0</td>\n      <td>4.730942</td>\n      <td>1.017937</td>\n      <td>3731.0</td>\n      <td>4.182735</td>\n      <td>33.97</td>\n      <td>-118.21</td>\n    </tr>\n    <tr>\n      <th>8227</th>\n      <td>2.3305</td>\n      <td>52.0</td>\n      <td>3.488860</td>\n      <td>1.170380</td>\n      <td>3018.0</td>\n      <td>3.955439</td>\n      <td>33.78</td>\n      <td>-118.20</td>\n    </tr>\n    <tr>\n      <th>13034</th>\n      <td>6.1359</td>\n      <td>52.0</td>\n      <td>8.275862</td>\n      <td>1.517241</td>\n      <td>6675.0</td>\n      <td>230.172414</td>\n      <td>38.69</td>\n      <td>-121.15</td>\n    </tr>\n    <tr>\n      <th>15634</th>\n      <td>1.8295</td>\n      <td>52.0</td>\n      <td>2.628169</td>\n      <td>1.053521</td>\n      <td>2957.0</td>\n      <td>4.164789</td>\n      <td>37.80</td>\n      <td>-122.41</td>\n    </tr>\n    <tr>\n      <th>15652</th>\n      <td>0.9000</td>\n      <td>52.0</td>\n      <td>2.237474</td>\n      <td>1.053535</td>\n      <td>3260.0</td>\n      <td>2.237474</td>\n      <td>37.80</td>\n      <td>-122.41</td>\n    </tr>\n    <tr>\n      <th>15657</th>\n      <td>2.5166</td>\n      <td>52.0</td>\n      <td>2.839075</td>\n      <td>1.184049</td>\n      <td>3436.0</td>\n      <td>1.621520</td>\n      <td>37.79</td>\n      <td>-122.41</td>\n    </tr>\n    <tr>\n      <th>15659</th>\n      <td>1.7240</td>\n      <td>52.0</td>\n      <td>2.278566</td>\n      <td>1.082348</td>\n      <td>4518.0</td>\n      <td>1.780142</td>\n      <td>37.79</td>\n      <td>-122.41</td>\n    </tr>\n    <tr>\n      <th>15795</th>\n      <td>2.5755</td>\n      <td>52.0</td>\n      <td>3.402576</td>\n      <td>1.058776</td>\n      <td>2619.0</td>\n      <td>2.108696</td>\n      <td>37.77</td>\n      <td>-122.42</td>\n    </tr>\n    <tr>\n      <th>15868</th>\n      <td>2.8135</td>\n      <td>52.0</td>\n      <td>4.584329</td>\n      <td>1.041169</td>\n      <td>2987.0</td>\n      <td>3.966799</td>\n      <td>37.76</td>\n      <td>-122.41</td>\n    </tr>\n  </tbody>\n</table>\n</div>"
     },
     "execution_count": 30,
     "metadata": {},
     "output_type": "execute_result"
    }
   ],
   "source": [
    "df = pd.DataFrame(data['data'])\n",
    "df.columns\n",
    "df.loc[df['HouseAge'] > 50].loc[df['Population'] > 2500]"
   ],
   "metadata": {
    "collapsed": false
   }
  },
  {
   "cell_type": "markdown",
   "source": [
    "Задание 10"
   ],
   "metadata": {
    "collapsed": false
   }
  },
  {
   "cell_type": "code",
   "execution_count": 31,
   "outputs": [
    {
     "name": "stdout",
     "output_type": "stream",
     "text": [
      "max price =  5.00001\n",
      "min price =  0.14999\n"
     ]
    }
   ],
   "source": [
    "s = pd.Series(data['target'])\n",
    "print('max price = ', s.max())\n",
    "print('min price = ', s.min())"
   ],
   "metadata": {
    "collapsed": false
   }
  },
  {
   "cell_type": "markdown",
   "source": [
    "Задание 11"
   ],
   "metadata": {
    "collapsed": false
   }
  },
  {
   "cell_type": "code",
   "execution_count": 32,
   "outputs": [
    {
     "data": {
      "text/plain": "MedInc           3.870671\nHouseAge        28.639486\nAveRooms         5.429000\nAveBedrms        1.096675\nPopulation    1425.476744\nAveOccup         3.070655\nLatitude        35.631861\nLongitude     -119.569704\ndtype: float64"
     },
     "execution_count": 32,
     "metadata": {},
     "output_type": "execute_result"
    }
   ],
   "source": [
    "df.apply(np.mean)"
   ],
   "metadata": {
    "collapsed": false
   }
  }
 ],
 "metadata": {
  "kernelspec": {
   "display_name": "Python 3",
   "language": "python",
   "name": "python3"
  },
  "language_info": {
   "codemirror_mode": {
    "name": "ipython",
    "version": 2
   },
   "file_extension": ".py",
   "mimetype": "text/x-python",
   "name": "python",
   "nbconvert_exporter": "python",
   "pygments_lexer": "ipython2",
   "version": "2.7.6"
  }
 },
 "nbformat": 4,
 "nbformat_minor": 0
}
